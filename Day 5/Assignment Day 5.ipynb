{
 "cells": [
  {
   "cell_type": "markdown",
   "metadata": {},
   "source": [
    "### 1)Write a Python program to find the first 20 non-even prime natural numbers."
   ]
  },
  {
   "cell_type": "code",
   "execution_count": 1,
   "metadata": {},
   "outputs": [
    {
     "name": "stdout",
     "output_type": "stream",
     "text": [
      "First 20 non-even prime natural numbers are  3 5 7 11 13 17 19 23 29 31 37 41 43 47 53 59 61 67 71 73 "
     ]
    }
   ],
   "source": [
    "Start_num = 3\n",
    "count=0\n",
    "print(\"First 20 non-even prime natural numbers are \",end = \" \")\n",
    "while count<20:\n",
    "    tepm=0\n",
    "    for i in range(2, int(Start_num/2)+1):\n",
    "        if(Start_num%i == 0):\n",
    "            tepm=1\n",
    "            break\n",
    "    if(tepm == 0):\n",
    "        print(Start_num,end=\" \")\n",
    "        count = count+1\n",
    "    Start_num=Start_num+1"
   ]
  },
  {
   "cell_type": "markdown",
   "metadata": {},
   "source": [
    "### 2)Write a Python program to implement 15 functions of string."
   ]
  },
  {
   "cell_type": "code",
   "execution_count": 2,
   "metadata": {},
   "outputs": [
    {
     "name": "stdout",
     "output_type": "stream",
     "text": [
      "center function prints the string in center:\n",
      "           welcome to python {prog} 6.25           \n",
      "isdecimal function will check whether all elements are decimal:\n",
      " False\n",
      "capitalize function will convert first letter to capital:\n",
      " Welcome to python {prog} 6.25\n",
      "upper function will convert all letter to caps:\n",
      " WELCOME TO PYTHON {PROG} 6.25\n",
      "Formats specified values in a string:\n",
      " welcome to python program 6.25\n",
      "lower function will convert all letter to lower case:\n",
      " welcome to python {prog} 6.25\n",
      "find function checks given string is present or not:\n",
      " 8\n",
      "index will return the starting index of given string:\n",
      " 11\n",
      "islower Returns True if all characters in the string are lower case:\n",
      " True\n",
      "count Returns the number of times a specified value occurs in a string:\n",
      " 1\n",
      "isspace will return true if only space is present in the string:\n",
      " False\n",
      "isalnum Returns True if all characters in the string are alphanumeric:\n",
      " False\n",
      "isnumeric retuens True if all charater are numeric:\n",
      " False\n",
      "isalpha returns true if all charater are alphabet:\n",
      " False\n",
      "replace will replace with second string in place of first string:\n",
      " welcome too python {prog} 6.25\n"
     ]
    }
   ],
   "source": [
    "String=\"welcome to python {prog} 6.25\"\n",
    "print(\"center function prints the string in center:\\n\",String.center(50))\n",
    "print(\"isdecimal function will check whether all elements are decimal:\\n\",String.isdecimal())\n",
    "print(\"capitalize function will convert first letter to capital:\\n\",String.capitalize())\n",
    "print(\"upper function will convert all letter to caps:\\n\",String.upper())\n",
    "print(\"Formats specified values in a string:\\n\",String.format(prog = 'program'))\n",
    "print(\"lower function will convert all letter to lower case:\\n\",String.lower())\n",
    "print(\"find function checks given string is present or not:\\n\",String.find(\"to\"))\n",
    "print(\"index will return the starting index of given string:\\n\",String.index('python'))\n",
    "print(\"islower Returns True if all characters in the string are lower case:\\n\",String.islower())\n",
    "print(\"count Returns the number of times a specified value occurs in a string:\\n\",String.count('python'))\n",
    "print(\"isspace will return true if only space is present in the string:\\n\",String.isspace())\n",
    "print(\"isalnum Returns True if all characters in the string are alphanumeric:\\n\",String.isalnum())\n",
    "print(\"isnumeric retuens True if all charater are numeric:\\n\",String.isnumeric())\n",
    "print(\"isalpha returns true if all charater are alphabet:\\n\",String.isalpha())\n",
    "print(\"replace will replace with second string in place of first string:\\n\",String.replace(\"to\",\"too\"))"
   ]
  },
  {
   "cell_type": "markdown",
   "metadata": {},
   "source": [
    "### 3)Write a Python program to check if the given string is a Palindrome or Anagram or None of them. Display the message accordingly to the user."
   ]
  },
  {
   "cell_type": "code",
   "execution_count": 3,
   "metadata": {},
   "outputs": [
    {
     "name": "stdout",
     "output_type": "stream",
     "text": [
      "Enter first string:Hello\n",
      "Enter second string:hell\n",
      "None\n"
     ]
    }
   ],
   "source": [
    "String1 = input(\"Enter first string:\")\n",
    "String2 = input(\"Enter second string:\")\n",
    "Reversed_String1 = \"\".join(reversed(String1))\n",
    "Reversed_String2 = \"\".join(reversed(String2))\n",
    "if String1==Reversed_String1 or String2==Reversed_String2:\n",
    "    print(\"one of the given string is Palindrome\")\n",
    "elif sorted(String1)==sorted(String2):\n",
    "    print(\"Two string are Anagram\")\n",
    "else:\n",
    "    print(\"None\")"
   ]
  },
  {
   "cell_type": "markdown",
   "metadata": {},
   "source": [
    "### 4)Write a Python's user-defined function that removes all the additional characters from the string and convert it finally to lower case using built-in lower(). eg: If the string is \"Dr. Darshan Ingle @AIML Trainer\", then the output be \"drdarshaningleaimltrainer\". "
   ]
  },
  {
   "cell_type": "code",
   "execution_count": 4,
   "metadata": {},
   "outputs": [
    {
     "name": "stdout",
     "output_type": "stream",
     "text": [
      "Enter the string:Dr. Darshan Ingle @AIML Trainer\n",
      "DrDarshanIngleAIMLTrainer\n"
     ]
    }
   ],
   "source": [
    "Unwanted_char = ['!','@','#','$','%','^','&','*',')','(','-',' ','_',\n",
    "                 '=','+',']','[','}','{',':',';',',','>','<','.','/','?','\\\\']\n",
    "String = input(\"Enter the string:\")\n",
    "for i in Unwanted_char:\n",
    "    String = String.replace(i, '') \n",
    "print(String)"
   ]
  }
 ],
 "metadata": {
  "kernelspec": {
   "display_name": "Python 3",
   "language": "python",
   "name": "python3"
  },
  "language_info": {
   "codemirror_mode": {
    "name": "ipython",
    "version": 3
   },
   "file_extension": ".py",
   "mimetype": "text/x-python",
   "name": "python",
   "nbconvert_exporter": "python",
   "pygments_lexer": "ipython3",
   "version": "3.7.3"
  }
 },
 "nbformat": 4,
 "nbformat_minor": 2
}
