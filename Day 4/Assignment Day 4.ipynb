{
 "cells": [
  {
   "cell_type": "markdown",
   "metadata": {},
   "source": [
    "### 1)Research on whether addition, subtraction, multiplication, division, floor division, and modulo operations be performed on complex numbers. Based on your study, implement a Python program to demonstratethese operations."
   ]
  },
  {
   "cell_type": "code",
   "execution_count": 1,
   "metadata": {},
   "outputs": [
    {
     "name": "stdout",
     "output_type": "stream",
     "text": [
      "enter the real number1:9\n",
      "enter imagenary number1:4\n",
      "enter the real number2:2\n",
      "enter imagenary number2:3\n",
      "Addition of two complex number: (11+7j)\n",
      "Subraction of two complex number: (7+1j)\n",
      "Multiplication of two complex number: (6+35j)\n",
      "Division of two complex number: (2.307692307692308-1.4615384615384617j)\n",
      "Floor division of two complex number:2-1 j\n",
      "Modulo of two complex number:4-6 j\n"
     ]
    }
   ],
   "source": [
    "Complex_num1 = complex(int(input(\"enter the real number1:\")),int(input(\"enter imagenary number1:\")))\n",
    "Complex_num2 = complex(int(input(\"enter the real number2:\")),int(input(\"enter imagenary number2:\")))\n",
    "print(\"Addition of two complex number:\",Complex_num1+Complex_num2)\n",
    "print(\"Subraction of two complex number:\",Complex_num1-Complex_num2)\n",
    "print(\"Multiplication of two complex number:\",Complex_num1*Complex_num2)\n",
    "print(\"Division of two complex number:\",Complex_num1/Complex_num2)\n",
    "Devision_result = Complex_num1/Complex_num2\n",
    "print(\"Floor division of two complex number:\",end=\"\")\n",
    "if int(Devision_result.real) != 0:\n",
    "    print(int(Devision_result.real),end=\"\")\n",
    "if int(Devision_result.imag) > 0:\n",
    "    print(\"+\",int(Devision_result.imag),\"j\")\n",
    "elif int(Devision_result.imag) < 0:\n",
    "    print(int(Devision_result.imag),\"j\")\n",
    "Tepm = Complex_num2.conjugate()\n",
    "Complex_num1 = Complex_num1 * Tepm\n",
    "Complex_num2 = Complex_num2 * Tepm\n",
    "Tepm = Complex_num1/Complex_num2\n",
    "Real = Tepm.real - int(Tepm.real)\n",
    "Imag = Tepm.imag - int(Tepm.imag)\n",
    "Real = round(Real*Complex_num2.real)\n",
    "Imag = round(Imag*Complex_num2.real)\n",
    "print(\"Modulo of two complex number:\",end=\"\")\n",
    "if Real != 0:\n",
    "    print(Real,end=\"\")\n",
    "if Imag > 0:\n",
    "    print(\"+\",Imag,\"j\")\n",
    "elif Imag < 0:\n",
    "    print(Imag,\"j\")\n",
    "#print(\"Modulo of two complex number:\",Complex_num1%Complex_num2)"
   ]
  },
  {
   "cell_type": "markdown",
   "metadata": {},
   "source": [
    "### 2)Research on range() functions and its parameters. Create a markdown cell and write in your own words (no copy-paste from google please) what you understand about it. Implement a small program of your choice on the same."
   ]
  },
  {
   "cell_type": "markdown",
   "metadata": {},
   "source": [
    "#### Definition:\n",
    "        range() function in python is used genrate the series of numbe with in the range.\n",
    "#### Syntax:\n",
    "        range(start,stop,step).\n",
    "#### Parameters:\n",
    "        The parameters are start,stop,step. From this three parametes start and step are optional.stop is compulsory.\n",
    "        If start is not specified it will assume as 0.\n",
    "        If step is not specified it will assume as 1 and increment is done accordingly.\n",
    "#### Example:\n",
    "    print(\"Only stop is given and output:\",end=\" \")\n",
    "    for i in range(6):\n",
    "        print(i,end=\" \")\n",
    "    print(\"\\nStart and stop are specified and output:\",end=\" \")\n",
    "    for i in range(1,6):\n",
    "        print(i,end=\" \")\n",
    "    print(\"\\nAll three parameters are specified and output:\",end=\" \")\n",
    "    for i in range(1,6,2):\n",
    "        print(i,end=\" \")\n",
    "##### output:\n",
    "    Only stop is given and output: 0 1 2 3 4 5 \n",
    "    Start and stop are specified and output: 1 2 3 4 5 \n",
    "    All three parameters are specified and output: 1 3 5 "
   ]
  },
  {
   "cell_type": "markdown",
   "metadata": {},
   "source": [
    "### 3)Consider two numbers. Perform their subtraction and if the result of subtraction is greater than 25, print their multiplication result else print their division result."
   ]
  },
  {
   "cell_type": "code",
   "execution_count": 2,
   "metadata": {},
   "outputs": [
    {
     "name": "stdout",
     "output_type": "stream",
     "text": [
      "Enter First Number:51\n",
      "Enter Second Number:39\n",
      "The subtaction value is less than 25.\n",
      "Division of two number is: 1.3076923076923077\n"
     ]
    }
   ],
   "source": [
    "Number1 = int(input(\"Enter First Number:\"))\n",
    "Number2 = int(input(\"Enter Second Number:\"))\n",
    "if (Number1 - Number2)>25:\n",
    "    print(\"The subtaction value is greater than 25.\\nMultilaction of two number is:\",Number1*Number2)\n",
    "else:\n",
    "    print(\"The subtaction value is less than 25.\\nDivision of two number is:\",Number1/Number2)"
   ]
  },
  {
   "cell_type": "markdown",
   "metadata": {},
   "source": [
    "### 4)Consider a list of 10 elements of integer values. If the number in the list is divisible by 2, print the result as \"square of that number minus 2\"."
   ]
  },
  {
   "cell_type": "code",
   "execution_count": 3,
   "metadata": {},
   "outputs": [
    {
     "name": "stdout",
     "output_type": "stream",
     "text": [
      "Enter the number of element in list:10\n",
      "Enter the numbers for list:\n",
      "51\n",
      "95\n",
      "36\n",
      "26\n",
      "105\n",
      "193\n",
      "128\n",
      "1\n",
      "8\n",
      "20\n",
      "Square of Number minus 2 value is: 1294\n",
      "Square of Number minus 2 value is: 674\n",
      "Square of Number minus 2 value is: 16382\n",
      "Square of Number minus 2 value is: 62\n",
      "Square of Number minus 2 value is: 398\n"
     ]
    }
   ],
   "source": [
    "List = []\n",
    "Listcount = int(input(\"Enter the number of element in list:\"))\n",
    "print(\"Enter the numbers for list:\")\n",
    "for i in range(0,Listcount):\n",
    "    Temp = int(input())\n",
    "    List.append(Temp)\n",
    "for i in List:\n",
    "    if i%2 == 0:\n",
    "        print(\"Square of Number minus 2 value is:\",i*i-2)"
   ]
  },
  {
   "cell_type": "markdown",
   "metadata": {},
   "source": [
    "### 5)Consider a list of 10 elements. Print all the elements in the list which are greater than 7 when that number is divided 2."
   ]
  },
  {
   "cell_type": "code",
   "execution_count": 4,
   "metadata": {},
   "outputs": [
    {
     "name": "stdout",
     "output_type": "stream",
     "text": [
      "Enter the number of element in list:10\n",
      "Enter the numbers for list:\n",
      "1254\n",
      "186\n",
      "129\n",
      "1085\n",
      "135\n",
      "25\n",
      "6\n",
      "12\n",
      "16\n",
      "28\n",
      "Number is Divided by 2 and Greater than 7: 1254 186 129 1085 135 25 16 28 "
     ]
    }
   ],
   "source": [
    "List = []\n",
    "Listcount = int(input(\"Enter the number of element in list:\"))\n",
    "print(\"Enter the numbers for list:\")\n",
    "for i in range(0,Listcount):\n",
    "    Temp = int(input())\n",
    "    List.append(Temp)\n",
    "print(\"Number is Divided by 2 and Greater than 7:\",end =\" \")\n",
    "for i in List:\n",
    "    if i/2 > 7:\n",
    "        print(i,end =\" \")"
   ]
  },
  {
   "cell_type": "code",
   "execution_count": null,
   "metadata": {},
   "outputs": [],
   "source": []
  }
 ],
 "metadata": {
  "kernelspec": {
   "display_name": "Python 3",
   "language": "python",
   "name": "python3"
  },
  "language_info": {
   "codemirror_mode": {
    "name": "ipython",
    "version": 3
   },
   "file_extension": ".py",
   "mimetype": "text/x-python",
   "name": "python",
   "nbconvert_exporter": "python",
   "pygments_lexer": "ipython3",
   "version": "3.7.3"
  }
 },
 "nbformat": 4,
 "nbformat_minor": 2
}
