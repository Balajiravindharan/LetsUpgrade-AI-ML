{
 "cells": [
  {
   "cell_type": "markdown",
   "metadata": {},
   "source": [
    "### 1)Recreate “NB 21 map, filter, lambda.ipynb” to try different variations or perform different calculations from the ones that are in the NB"
   ]
  },
  {
   "cell_type": "markdown",
   "metadata": {},
   "source": [
    "#### map:"
   ]
  },
  {
   "cell_type": "code",
   "execution_count": 1,
   "metadata": {},
   "outputs": [],
   "source": [
    "def sqr(List1,List2,List3):\n",
    "    return ((5*List1)-List2)*List3/List1\n",
    "print(list(map(sqr, [1,2,3,4], [5,6,7,8],[9,10,11,12] )))"
   ]
  },
  {
   "cell_type": "markdown",
   "metadata": {},
   "source": [
    "#### filter:"
   ]
  },
  {
   "cell_type": "code",
   "execution_count": 2,
   "metadata": {},
   "outputs": [
    {
     "name": "stdout",
     "output_type": "stream",
     "text": [
      "[39, 25, 65, 85, 23, 54]\n"
     ]
    }
   ],
   "source": [
    "Temp = [39,25,65,20,16,85,23,54]\n",
    "print(list(filter(lambda x: x > 20 , Temp )))"
   ]
  },
  {
   "cell_type": "markdown",
   "metadata": {},
   "source": [
    "#### map, filter, lambda:"
   ]
  },
  {
   "cell_type": "code",
   "execution_count": 3,
   "metadata": {},
   "outputs": [
    {
     "name": "stdout",
     "output_type": "stream",
     "text": [
      "[12.25, 13.25, 14.25, 15.25]\n"
     ]
    }
   ],
   "source": [
    "print(list(filter(lambda x: x>12,  map(lambda x: x+15*3/4, [1,2,3,4]))))"
   ]
  },
  {
   "cell_type": "markdown",
   "metadata": {},
   "source": [
    "### 2) Recreate your own Python NB for “Classes and Objects” from the pdf provided namely “Classes&Objects.pdf”"
   ]
  },
  {
   "cell_type": "markdown",
   "metadata": {},
   "source": [
    "### Classes:\n",
    "    A class is a user-defined blueprint or prototype from which objects are created. Classes provide a means of bundling data and functionality together. Creating a new class creates a new type of object, allowing new instances of that type to be made\n",
    "\n",
    "### Objects:\n",
    "    Class creates a unique instance of data structure which is called as objects. It comprises both data member and method\n",
    "\n",
    "#### points on class(Python):\n",
    "    Classes are created by keyword class. Attributes are the variables that belong to class. Attributes are always public and can be accessed using dot (.) operator. Eg.: Myclass.Myattribute\n",
    "\n",
    "#### Syntax:\n",
    "   >class ClassName:\n",
    "    Statement-1\n",
    "    .\n",
    "    .\n",
    "    .\n",
    "    Statement-N\n",
    "\n",
    "#### Example:\n",
    "    class Program:   \n",
    "        def __init__(self, name):  \n",
    "            self.name = name  \n",
    "        def say_hi(self):  \n",
    "            print('Hello, Welcome to', self.name)  \n",
    "    p = Program('Python')  \n",
    "    p.say_hi()\n",
    "__Output:__\n",
    "    Hello, Welcome to Python"
   ]
  }
 ],
 "metadata": {
  "kernelspec": {
   "display_name": "Python 3",
   "language": "python",
   "name": "python3"
  },
  "language_info": {
   "codemirror_mode": {
    "name": "ipython",
    "version": 3
   },
   "file_extension": ".py",
   "mimetype": "text/x-python",
   "name": "python",
   "nbconvert_exporter": "python",
   "pygments_lexer": "ipython3",
   "version": "3.7.3"
  }
 },
 "nbformat": 4,
 "nbformat_minor": 2
}
