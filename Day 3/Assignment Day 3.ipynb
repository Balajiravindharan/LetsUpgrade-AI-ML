{
 "cells": [
  {
   "cell_type": "markdown",
   "metadata": {},
   "source": [
    "### 1)Write a program to subtract two complex numbers in Python."
   ]
  },
  {
   "cell_type": "code",
   "execution_count": 1,
   "metadata": {},
   "outputs": [
    {
     "name": "stdout",
     "output_type": "stream",
     "text": [
      "enter the real number1:5\n",
      "enter imagenary number1:9\n",
      "enter the real number2:2\n",
      "enter imagenary number2:8\n",
      "Subraction of two complex number: (3+1j)\n"
     ]
    }
   ],
   "source": [
    "Complex_num1 = complex(int(input(\"enter the real number1:\")),int(input(\"enter imagenary number1:\")))\n",
    "Complex_num2 = complex(int(input(\"enter the real number2:\")),int(input(\"enter imagenary number2:\")))\n",
    "print(\"Subraction of two complex number:\",Complex_num1-Complex_num2)"
   ]
  },
  {
   "cell_type": "markdown",
   "metadata": {},
   "source": [
    "### 2)Write a program to find the fourth root of a number."
   ]
  },
  {
   "cell_type": "code",
   "execution_count": 2,
   "metadata": {},
   "outputs": [
    {
     "name": "stdout",
     "output_type": "stream",
     "text": [
      "Enter the number for fourth root:81\n",
      "Foutrh root of 81 : 3.0\n"
     ]
    }
   ],
   "source": [
    "Number = int(input(\"Enter the number for fourth root:\"))\n",
    "print(\"Foutrh root of\",Number,\":\",Number**(1/4))"
   ]
  },
  {
   "cell_type": "markdown",
   "metadata": {},
   "source": [
    "### 3)Write a program to swap two numbers in Python with the help of a temporary variable."
   ]
  },
  {
   "cell_type": "code",
   "execution_count": 3,
   "metadata": {},
   "outputs": [
    {
     "name": "stdout",
     "output_type": "stream",
     "text": [
      "Enter first number to swap:5\n",
      "Enter first number to swap:6\n",
      "Before Swap \n",
      " Frist Number: 5 \n",
      " Second Number 6\n",
      "After Swap\n",
      " Frist Number: 6 \n",
      " Second Number 5\n"
     ]
    }
   ],
   "source": [
    "number1 = int(input(\"Enter first number to swap:\"))\n",
    "number2 = int(input(\"Enter first number to swap:\"))\n",
    "print(\"Before Swap \\n Frist Number:\",number1,\"\\n Second Number\",number2)\n",
    "Temp = number1\n",
    "number1 = number2\n",
    "number2 = Temp\n",
    "print(\"After Swap\\n Frist Number:\",number1,\"\\n Second Number\",number2)"
   ]
  },
  {
   "cell_type": "markdown",
   "metadata": {},
   "source": [
    "### 4)Write a program to swap two numbers in Python without using a temporary variable."
   ]
  },
  {
   "cell_type": "code",
   "execution_count": 4,
   "metadata": {},
   "outputs": [
    {
     "name": "stdout",
     "output_type": "stream",
     "text": [
      "Enter first number to swap:150\n",
      "Enter first number to swap:12345\n",
      "Before Swap \n",
      " Frist Number: 150 \n",
      " Second Number 12345\n",
      "After Swap\n",
      " Frist Number: 12345 \n",
      " Second Number 150\n"
     ]
    }
   ],
   "source": [
    "number1 = int(input(\"Enter first number to swap:\"))\n",
    "number2 = int(input(\"Enter first number to swap:\"))\n",
    "print(\"Before Swap \\n Frist Number:\",number1,\"\\n Second Number\",number2)\n",
    "number1 = number1^number2\n",
    "number2 = number1^number2\n",
    "number1 = number1^number2\n",
    "print(\"After Swap\\n Frist Number:\",number1,\"\\n Second Number\",number2)"
   ]
  },
  {
   "cell_type": "markdown",
   "metadata": {},
   "source": [
    "### 5)Write a program to convert Fahrenheit to kelvin and celsius both."
   ]
  },
  {
   "cell_type": "code",
   "execution_count": 5,
   "metadata": {},
   "outputs": [
    {
     "name": "stdout",
     "output_type": "stream",
     "text": [
      "Enter the fahrenheit value:35\n",
      "Celsius value 1.6666666666666667\n",
      "Kelvin value: 274.81666666666666\n"
     ]
    }
   ],
   "source": [
    "Fahrenheit = int(input(\"Enter the fahrenheit value:\"))\n",
    "Celsius = (Fahrenheit - 32) * 5.0/9.0\n",
    "print(\"Celsius value\",Celsius)\n",
    "kelvin = (Fahrenheit-32)*5/9+273.15\n",
    "print(\"Kelvin value:\",kelvin)"
   ]
  },
  {
   "cell_type": "markdown",
   "metadata": {},
   "source": [
    "### 6)Write a program to demonstrate all the available data types in Python. Hint: Use type() function."
   ]
  },
  {
   "cell_type": "code",
   "execution_count": 6,
   "metadata": {},
   "outputs": [
    {
     "name": "stdout",
     "output_type": "stream",
     "text": [
      "10 is <class 'int'>\n",
      "2.5 is <class 'float'>\n",
      "(5+6j) is <class 'complex'>\n",
      "This is String is <class 'str'>\n",
      "[1, 2, 3, 4, 5, 6] is <class 'list'>\n",
      "(1, 2, 3) is <class 'tuple'>\n",
      "{1, 2, 3} is <class 'set'>\n",
      "{1: 'Welcome', 2: 'here'} is <class 'dict'>\n"
     ]
    }
   ],
   "source": [
    "Integer = 10\n",
    "Float = 2.5\n",
    "Complex = 5+6j\n",
    "String = 'This is String'\n",
    "List = [1,2,3,4,5,6]\n",
    "Tuples =(1,2,3)\n",
    "Set = {1,2,3}\n",
    "Dictionary = {1:'Welcome',2:'here'}\n",
    "print(Integer,'is',type(Integer))\n",
    "print(Float,'is',type(Float))\n",
    "print(Complex,'is',type(Complex))\n",
    "print(String,'is',type(String))\n",
    "print(List,'is',type(List))\n",
    "print(Tuples,'is',type(Tuples))\n",
    "print(Set,'is',type(Set))\n",
    "print(Dictionary,'is',type(Dictionary))"
   ]
  },
  {
   "cell_type": "code",
   "execution_count": null,
   "metadata": {},
   "outputs": [],
   "source": []
  }
 ],
 "metadata": {
  "kernelspec": {
   "display_name": "Python 3",
   "language": "python",
   "name": "python3"
  },
  "language_info": {
   "codemirror_mode": {
    "name": "ipython",
    "version": 3
   },
   "file_extension": ".py",
   "mimetype": "text/x-python",
   "name": "python",
   "nbconvert_exporter": "python",
   "pygments_lexer": "ipython3",
   "version": "3.7.3"
  }
 },
 "nbformat": 4,
 "nbformat_minor": 2
}
