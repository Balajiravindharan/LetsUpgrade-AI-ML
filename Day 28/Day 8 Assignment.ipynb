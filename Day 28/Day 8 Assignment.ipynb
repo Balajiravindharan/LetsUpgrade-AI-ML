{
 "cells": [
  {
   "cell_type": "code",
   "execution_count": 1,
   "metadata": {},
   "outputs": [],
   "source": [
    "from sklearn.metrics import confusion_matrix\n",
    "from sklearn.metrics import classification_report\n",
    "import numpy as np"
   ]
  },
  {
   "cell_type": "markdown",
   "metadata": {},
   "source": [
    "### 1) Create one array of actual values and another array of predicted values. Compare the two sets with the confusion matrix."
   ]
  },
  {
   "cell_type": "code",
   "execution_count": 2,
   "metadata": {},
   "outputs": [
    {
     "name": "stdout",
     "output_type": "stream",
     "text": [
      "Confustion Matrix:\n",
      " [[1 2]\n",
      " [2 2]]\n"
     ]
    }
   ],
   "source": [
    "Actual_Array = [0,1,0,0,1,1,0]\n",
    "Predicted_Array = [1,0,0,0,0,1,1]\n",
    "\n",
    "Confusion_Matrix = confusion_matrix(Actual_Array,Predicted_Array,labels = [1,0])\n",
    "print('Confustion Matrix:\\n',Confusion_Matrix)"
   ]
  },
  {
   "cell_type": "code",
   "execution_count": 3,
   "metadata": {},
   "outputs": [
    {
     "name": "stdout",
     "output_type": "stream",
     "text": [
      "Classification report : \n",
      "               precision    recall  f1-score   support\n",
      "\n",
      "           1       0.33      0.33      0.33         3\n",
      "           0       0.50      0.50      0.50         4\n",
      "\n",
      "    accuracy                           0.43         7\n",
      "   macro avg       0.42      0.42      0.42         7\n",
      "weighted avg       0.43      0.43      0.43         7\n",
      "\n"
     ]
    }
   ],
   "source": [
    "Result = classification_report(Actual_Array,Predicted_Array,labels=[1,0])\n",
    "print('Classification report : \\n',Result)"
   ]
  },
  {
   "cell_type": "markdown",
   "metadata": {},
   "source": [
    "### 2) Find out the recall, precision, F1 score and confusion matrix with picture"
   ]
  },
  {
   "cell_type": "code",
   "execution_count": 4,
   "metadata": {},
   "outputs": [
    {
     "name": "stdout",
     "output_type": "stream",
     "text": [
      "Recall: 0.7\n",
      "Precision: 0.84\n",
      "F1 Score:0.76\n",
      "Confusion Matrix:\n",
      " [[42  8]\n",
      " [18 32]]\n"
     ]
    }
   ],
   "source": [
    "tp = 42\n",
    "fp = 8\n",
    "fn = 18\n",
    "tn = 32\n",
    "Confusion_mat = [[tp,fp],[fn,tn]]\n",
    "Confusion_mat = np.array(Confusion_mat)\n",
    "recall = tp / (tp+fn)\n",
    "precision = tp / (tp+fp)\n",
    "F1_Score = (2*recall*precision) / (recall+precision)\n",
    "print(\"Recall:\",recall)\n",
    "print(\"Precision:\",precision)\n",
    "print(f\"F1 Score:{F1_Score:.2f}\")\n",
    "print(\"Confusion Matrix:\\n\",Confusion_mat)"
   ]
  },
  {
   "cell_type": "code",
   "execution_count": null,
   "metadata": {},
   "outputs": [],
   "source": []
  }
 ],
 "metadata": {
  "kernelspec": {
   "display_name": "Python 3",
   "language": "python",
   "name": "python3"
  },
  "language_info": {
   "codemirror_mode": {
    "name": "ipython",
    "version": 3
   },
   "file_extension": ".py",
   "mimetype": "text/x-python",
   "name": "python",
   "nbconvert_exporter": "python",
   "pygments_lexer": "ipython3",
   "version": "3.7.3"
  }
 },
 "nbformat": 4,
 "nbformat_minor": 2
}
